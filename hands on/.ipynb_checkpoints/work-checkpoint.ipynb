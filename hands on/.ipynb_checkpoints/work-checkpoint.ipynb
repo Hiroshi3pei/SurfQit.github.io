{
 "cells": [
  {
   "cell_type": "code",
   "execution_count": null,
   "id": "599acabc-953e-4569-bd28-b51428dcf315",
   "metadata": {
    "scrolled": true
   },
   "outputs": [],
   "source": [
    "!pip install cython clease\n",
    "!python ../SurfQit/cython_setup.py build_ext --inplace\n"
   ]
  },
  {
   "cell_type": "code",
   "execution_count": null,
   "id": "54db123b-1c18-4e15-8fdc-a14939a93e3b",
   "metadata": {},
   "outputs": [],
   "source": [
    "# surfqit導入\n",
    "import os\n",
    "import sys\n",
    "sys.path.append(os.getcwd()+\"/../SurfQit\")\n",
    "import allfunc"
   ]
  },
  {
   "cell_type": "code",
   "execution_count": null,
   "id": "f51e8fab-91f8-451c-8ac0-5a8bd0cc4389",
   "metadata": {},
   "outputs": [],
   "source": [
    "import os\n",
    "os.remove(\"example.log\")"
   ]
  },
  {
   "cell_type": "code",
   "execution_count": null,
   "id": "000094cc-478e-47d0-baaa-7297063bbcb6",
   "metadata": {},
   "outputs": [],
   "source": [
    "#symmetry checkなど\n",
    "import logging\n",
    "logging.basicConfig(level=logging.DEBUG, filename=\"example.log\", format=\"%(asctime)s: %(message)s, %(funcName)s, %(pathname)s\") # checkのため。これは配布しない\n",
    "#logging.basicConfig(level=logging.INFO, filename=\"example.log\", format=\"%(asctime)s: %(message)s\") # checkのため。これは配布しない\n",
    "\n",
    "import time\n",
    "import importlib\n",
    "import shutil\n",
    "importlib.reload(allfunc)\n",
    "\n",
    "start = time.time()\n",
    "config = allfunc.Prepare_Config()\n",
    "try:\n",
    "    shutil.rmtree(\"./work\")\n",
    "except:\n",
    "    pass\n",
    "allfunc.storage_path_initialize(config)\n",
    "allfunc.convert_nanosheet_into_slab(config)\n",
    "allfunc.visualize_symmetry_operation(config)\n",
    "CE = allfunc.ClusterExpansionExcutor(config)\n",
    "end = time.time()\n",
    "print(end-start)\n",
    "start = end\n",
    "CE.model_addition_random()\n",
    "end = time.time()\n",
    "print(end-start)\n",
    "start = end\n",
    "CE.unconverged_calculate()\n",
    "end = time.time()\n",
    "print(end-start)\n",
    "start = end\n",
    "CE.ECI_evaruate()\n",
    "#CE.get_cluster_coordination()\n",
    "end = time.time()\n",
    "print(end-start)\n",
    "start = end\n",
    "\n",
    "#print(CE.coordination_dict)"
   ]
  },
  {
   "cell_type": "code",
   "execution_count": null,
   "id": "71ffa8b5-b3e6-4f87-bb5a-407a4bca490d",
   "metadata": {},
   "outputs": [],
   "source": [
    "for c in CE.settings.cluster_list.clusters:\n",
    "    print(c.group)"
   ]
  },
  {
   "cell_type": "code",
   "execution_count": null,
   "id": "b1d96d03-e6d3-46a8-b021-e241af3de912",
   "metadata": {},
   "outputs": [],
   "source": [
    "# 本筋からずれる検証用\n",
    "from ase.io import read\n",
    "shutil.copy(\"data.csv\",\"./work/train_data/energy_data.csv\")\n",
    "calc = allfunc.Calculator(config)\n",
    "cell = read(\"Cu (1 1 1).cif\")\n",
    "cell[5].symbol = 'Au'\n",
    "calc.csv_read(cell,5)\n",
    "print(calc.df)\n",
    "id =4\n",
    "print(calc.df[calc.df[\"id\"]==4][\"formation_energy\"].iloc[-1])\n",
    "print(calc.df[calc.df[\"id\"]==id][\"formation_energy\"].iloc[-1])\n",
    "\n",
    "\"\"\"\n",
    "calc = allfunc.Calculator(config)\n",
    "shutil.copy(\"data.csv\",\"./work/train_data/energy_data.csv\")\n",
    "cell = read(\"Cu (1 1 1).cif\")\n",
    "cell[5].symbol = 'Au'\n",
    "calc.csv_write(cell,5,180)\n",
    "\"\"\""
   ]
  },
  {
   "cell_type": "code",
   "execution_count": null,
   "id": "1e808f2b-8210-4478-994c-f7c1f553c589",
   "metadata": {},
   "outputs": [],
   "source": [
    "CE.settings.clusters_table()"
   ]
  },
  {
   "cell_type": "code",
   "execution_count": null,
   "id": "fa71b177-53cb-4e23-b63a-544392c9a780",
   "metadata": {},
   "outputs": [],
   "source": [
    "len(models)"
   ]
  },
  {
   "cell_type": "code",
   "execution_count": null,
   "id": "8908b1ef-47b7-44c4-a34b-04bc95f675e1",
   "metadata": {},
   "outputs": [],
   "source": [
    "for model in models:\n",
    "    print(model.positions)"
   ]
  },
  {
   "cell_type": "code",
   "execution_count": null,
   "id": "b3255b53-dac0-4464-8f27-6cf2973eb382",
   "metadata": {},
   "outputs": [],
   "source": [
    "# CESlabの中の現象をチェック\n",
    "from ase.build import surface\n",
    "from ase.io import read,write\n",
    "from clease.settings.settings_slab import remove_vacuum_layers\n",
    "\n",
    "cell = read(\"Cu (1 1 1).cif\")\n",
    "model = surface(cell, (0,0,1), 1, periodic=True)\n",
    "write(\"Cu_CESlab.cif\",model)"
   ]
  },
  {
   "cell_type": "code",
   "execution_count": null,
   "id": "0f877409-ec5e-44e4-ad40-1f4bbaeff1db",
   "metadata": {},
   "outputs": [],
   "source": [
    "from ase.io import read,write\n",
    "import numpy as np\n",
    "\n",
    "model = read(\"Cu (1 1 1).cif\")\n",
    "model[3].symbol = \"Au\"\n",
    "np.unique(model.symbols)"
   ]
  },
  {
   "cell_type": "code",
   "execution_count": null,
   "id": "94a6bdbf-d8fa-4249-98a8-4b2aac7ce025",
   "metadata": {},
   "outputs": [],
   "source": [
    "import pandas as pd\n",
    "\n",
    "df = pd.read_csv(\"work/train_data/data.csv\")\n",
    "column = df.columns\n",
    "column.get_loc(\"Au\")\n",
    "ndf = df.to_numpy()\n",
    "ndf = np.delete(ndf,column.get_loc(\"Au\"),1)[:,3:]\n",
    "df.iat[np.where(ndf.sum(axis=1)==0)[0][0],1]\n"
   ]
  },
  {
   "cell_type": "code",
   "execution_count": null,
   "id": "6737d195-4f35-4353-a556-7c5408694103",
   "metadata": {},
   "outputs": [],
   "source": [
    "a = [[\"Au\",\"Cu\"],[\"Au\",\"X\",\"Pt\"]]\n",
    "list(np.unique(np.array(sum(a,[]))))"
   ]
  },
  {
   "cell_type": "code",
   "execution_count": null,
   "id": "94989c31-0320-475e-ad82-5e257dc324b6",
   "metadata": {},
   "outputs": [],
   "source": []
  }
 ],
 "metadata": {
  "kernelspec": {
   "display_name": "Python 3 (ipykernel)",
   "language": "python",
   "name": "python3"
  },
  "language_info": {
   "codemirror_mode": {
    "name": "ipython",
    "version": 3
   },
   "file_extension": ".py",
   "mimetype": "text/x-python",
   "name": "python",
   "nbconvert_exporter": "python",
   "pygments_lexer": "ipython3",
   "version": "3.11.7"
  }
 },
 "nbformat": 4,
 "nbformat_minor": 5
}
